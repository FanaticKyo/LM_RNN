{
 "cells": [
  {
   "cell_type": "code",
   "execution_count": 1,
   "metadata": {},
   "outputs": [],
   "source": [
    "%matplotlib inline\n",
    "import torchnlp.nn as nlp\n",
    "import numpy as np\n",
    "from matplotlib import pyplot as plt\n",
    "import time\n",
    "import os\n",
    "import torch\n",
    "import torch.nn as nn\n",
    "from torch.nn.utils.rnn import *\n",
    "from torch.autograd import Variable\n",
    "from torch.utils.data import Dataset, DataLoader\n",
    "from tests import test_prediction, test_generation"
   ]
  },
  {
   "cell_type": "code",
   "execution_count": 9,
   "metadata": {},
   "outputs": [],
   "source": [
    "# load all that we need\n",
    "dataset = np.load('../dataset/wiki.train.npy', allow_pickle=True)\n",
    "fixtures_pred = np.load('../fixtures/prediction.npz', allow_pickle=True)  # dev\n",
    "fixtures_gen = np.load('../fixtures/generation.npy', allow_pickle=True)  # dev\n",
    "fixtures_pred_test = np.load('../fixtures/prediction_test.npz', allow_pickle=True)  # test\n",
    "fixtures_gen_test = np.load('../fixtures/generation_test.npy', allow_pickle=True)  # test\n",
    "vocab = np.load('../dataset/vocab.npy', allow_pickle=True)"
   ]
  },
  {
   "cell_type": "code",
   "execution_count": 10,
   "metadata": {
    "scrolled": true
   },
   "outputs": [],
   "source": [
    "# sentence_level_dataset = []\n",
    "# for article in dataset:\n",
    "#     eos = np.where(article == 1417)[0] + 1\n",
    "#     sentences = np.split(article, eos)\n",
    "#     sentence_level_dataset.extend(sentences)"
   ]
  },
  {
   "cell_type": "code",
   "execution_count": 11,
   "metadata": {},
   "outputs": [],
   "source": [
    "sentence_level_dataset = []\n",
    "seq_len = 300\n",
    "p = 0.95\n",
    "for article in dataset:\n",
    "    num = article.shape[0]\n",
    "    i = 0\n",
    "    eos = []\n",
    "    for n in range(num // 150):\n",
    "        if i < num:\n",
    "            pp = np.random.uniform(0, 1)\n",
    "            if pp < p:\n",
    "                eos.append(i + seq_len)\n",
    "                i += seq_len\n",
    "            else:\n",
    "                eos.append(i + seq_len // 2)\n",
    "                i += seq_len // 2\n",
    "    eos = np.asarray(eos)\n",
    "    sentences = np.split(article, eos)\n",
    "    sentence_level_dataset.extend(sentences)"
   ]
  },
  {
   "cell_type": "code",
   "execution_count": 12,
   "metadata": {},
   "outputs": [],
   "source": [
    "dataset = []\n",
    "for sen in sentence_level_dataset:\n",
    "    if sen.shape[0] > 1:\n",
    "        dataset.append(sen)"
   ]
  },
  {
   "cell_type": "code",
   "execution_count": 13,
   "metadata": {},
   "outputs": [],
   "source": [
    "dataset = np.asarray(dataset)"
   ]
  },
  {
   "cell_type": "code",
   "execution_count": 14,
   "metadata": {},
   "outputs": [],
   "source": [
    "# data loader\n",
    "\n",
    "class LanguageModelDataLoader(DataLoader):\n",
    "    \"\"\"\n",
    "        TODO: Define data loader logic here\n",
    "    \"\"\"\n",
    "    def __init__(self, dataset, batch_size, shuffle=True):\n",
    "        \n",
    "        self.dataset = dataset\n",
    "        self.batch_size = batch_size\n",
    "        self.shuffle = shuffle\n",
    "\n",
    "    def __iter__(self):\n",
    "        # concatenate your articles and build into batches\n",
    "        if self.shuffle == True:\n",
    "            np.random.shuffle(self.dataset)\n",
    "        bs = self.batch_size\n",
    "        num_batch = self.dataset.shape[0] // bs\n",
    "        for i in range(num_batch):\n",
    "            batch_data = self.dataset[i:i+bs]\n",
    "#             inputs = [torch.LongTensor(line[:-1]) for line in batch_data]\n",
    "#             targets = [torch.LongTensor(line[1:]) for line in batch_data]\n",
    "            yield ([torch.LongTensor(line[:-1]) for line in batch_data], [torch.LongTensor(line[1:]) for line in batch_data])    "
   ]
  },
  {
   "cell_type": "code",
   "execution_count": 18,
   "metadata": {},
   "outputs": [],
   "source": [
    "# model\n",
    "\n",
    "class LanguageModel(nn.Module):\n",
    "    \"\"\"\n",
    "        TODO: Define your model here\n",
    "    \"\"\"\n",
    "    def __init__(self, vocab_size, embed_size, hidden_size, nlayers):\n",
    "        super(LanguageModel, self).__init__()\n",
    "        self.vocab_size=vocab_size\n",
    "        self.embed_size = embed_size\n",
    "        self.hidden_size = hidden_size\n",
    "        self.nlayers=nlayers\n",
    "        self.embedding = nn.Embedding(vocab_size,embed_size) # Embedding layer\n",
    "        self.rnn = nn.LSTM(input_size = embed_size,hidden_size=hidden_size,num_layers=nlayers,dropout=0.2) # Recurrent network\n",
    "        self.scoring = nn.Linear(hidden_size,vocab_size) # Projection layer\n",
    "        self.scoring.weight = self.embedding.weight\n",
    "        self.dropout = nn.Dropout(0.2)\n",
    "    def forward(self, x):\n",
    "        # Feel free to add extra arguments to forward (like an argument to pass in the hiddens)\n",
    "        batch_size = len(x)\n",
    "        inp = [i for i in x]\n",
    "        for idx, sentence in enumerate(inp):\n",
    "            inp[idx] = self.dropout(self.embedding(sentence))\n",
    "            \n",
    "        embed = pack_sequence(inp,enforce_sorted=False)\n",
    "        hidden = None\n",
    "        output_lstm,hidden = self.rnn(embed,hidden) #L x N x H\n",
    "        output_lstm,length = pad_packed_sequence(output_lstm)\n",
    "        output_lstm_no_pad = []\n",
    "        for idx in range(batch_size):\n",
    "            output_lstm_no_pad.append(output_lstm[:,idx,:][:length[idx]])\n",
    "        output_lstm_flatten = torch.cat(output_lstm_no_pad)\n",
    "        output_flatten = self.scoring(output_lstm_flatten) #(L*N) x V\n",
    "        result = output_flatten.argmax(dim=1)\n",
    "        output = []\n",
    "        idx = 0\n",
    "        for i in range(batch_size):\n",
    "            output.append(output_flatten[idx:idx+length[i]])\n",
    "            idx = idx+length[i]\n",
    "        out = []\n",
    "        idx = 0\n",
    "        for i in range(batch_size):\n",
    "            out.append(result[idx:idx+length[i]])\n",
    "            idx = idx+length[i]\n",
    "        return output_flatten, output, out\n",
    "\n",
    "#         return output_lstm"
   ]
  },
  {
   "cell_type": "code",
   "execution_count": 19,
   "metadata": {},
   "outputs": [],
   "source": [
    "# model trainer\n",
    "\n",
    "class LanguageModelTrainer:\n",
    "    def __init__(self, model, loader, max_epochs=1, run_id='exp'):\n",
    "        \"\"\"\n",
    "            Use this class to train your model\n",
    "        \"\"\"\n",
    "        # feel free to add any other parameters here\n",
    "        self.model = model\n",
    "        self.loader = loader\n",
    "        self.train_losses = []\n",
    "        self.val_losses = []\n",
    "        self.predictions = []\n",
    "        self.predictions_test = []\n",
    "        self.generated_logits = []\n",
    "        self.generated = []\n",
    "        self.generated_logits_test = []\n",
    "        self.generated_test = [] \n",
    "        self.epochs = 0\n",
    "        self.max_epochs = max_epochs\n",
    "        self.run_id = run_id\n",
    "        \n",
    "        # TODO: Define your optimizer and criterion here\n",
    "        self.optimizer = torch.optim.Adam(self.model.parameters(),lr=0.001)\n",
    "        self.criterion = nn.CrossEntropyLoss()\n",
    "        self.criterion = self.criterion.cuda()\n",
    "\n",
    "    def train(self):\n",
    "        self.model.train() # set to training mode\n",
    "        epoch_loss = 0\n",
    "        num_batches = 0\n",
    "        for batch_num, (inputs, targets) in enumerate(self.loader):\n",
    "            loss, time = self.train_batch(inputs, targets)\n",
    "            epoch_loss += loss\n",
    "            print('Time:', time, 'Loss:', loss, end='\\r')\n",
    "            torch.cuda.empty_cache()\n",
    "        epoch_loss = epoch_loss / (batch_num + 1)\n",
    "        self.epochs += 1\n",
    "        print('\\n[TRAIN]  Epoch [%d/%d]   Loss: %.4f'\n",
    "                      % (self.epochs + 1, self.max_epochs, epoch_loss))\n",
    "        self.train_losses.append(epoch_loss)\n",
    "\n",
    "    def train_batch(self, inputs, targets):\n",
    "        \"\"\" \n",
    "            TODO: Define code for training a single batch of inputs\n",
    "        \n",
    "        \"\"\"\n",
    "        start = time.time()\n",
    "        inputs = [i.cuda() for i in inputs]\n",
    "        targets = torch.cat(targets).cuda()\n",
    "        outputs, _, _ = self.model.forward(inputs)\n",
    "        batch_loss = 0\n",
    "        batch_loss = self.criterion(outputs, targets)\n",
    "#         loss = criterion(outputs.view(-1,outputs.size(2)),targets.view(-1)) # Loss of the flattened outputs\n",
    "        self.optimizer.zero_grad()\n",
    "        batch_loss.backward()\n",
    "        self.optimizer.step()\n",
    "        end = time.time()\n",
    "        return batch_loss.item(), end - start\n",
    "    \n",
    "    def test(self):\n",
    "        # don't change these\n",
    "        self.model.eval() # set to eval mode\n",
    "        predictions = TestLanguageModel.prediction(fixtures_pred['inp'], self.model) # get predictions\n",
    "        self.predictions.append(predictions)\n",
    "        generated_logits = TestLanguageModel.generation(fixtures_gen, 10, self.model) # generated predictions for 10 words\n",
    "        generated_logits_test = TestLanguageModel.generation(fixtures_gen_test, 10, self.model)\n",
    "        nll = test_prediction(predictions, fixtures_pred['out'])\n",
    "        generated = test_generation(fixtures_gen, generated_logits, vocab)\n",
    "        generated_test = test_generation(fixtures_gen_test, generated_logits_test, vocab)\n",
    "        self.val_losses.append(nll)\n",
    "        \n",
    "        self.generated.append(generated)\n",
    "        self.generated_test.append(generated_test)\n",
    "        self.generated_logits.append(generated_logits)\n",
    "        self.generated_logits_test.append(generated_logits_test)\n",
    "        \n",
    "        # generate predictions for test data\n",
    "        predictions_test = TestLanguageModel.prediction(fixtures_pred_test['inp'], self.model) # get predictions\n",
    "        self.predictions_test.append(predictions_test)\n",
    "            \n",
    "        print('[VAL]  Epoch [%d/%d]   Loss: %.4f'\n",
    "                      % (self.epochs + 1, self.max_epochs, nll))\n",
    "        return nll\n",
    "\n",
    "    def save(self):\n",
    "        # don't change these\n",
    "        model_path = os.path.join('experiments', self.run_id, 'model-{}.pkl'.format(self.epochs))\n",
    "        torch.save({'state_dict': self.model.state_dict()},\n",
    "            model_path)\n",
    "        np.save(os.path.join('experiments', self.run_id, 'predictions-{}.npy'.format(self.epochs)), self.predictions[-1])\n",
    "        np.save(os.path.join('experiments', self.run_id, 'predictions-test-{}.npy'.format(self.epochs)), self.predictions_test[-1])\n",
    "        np.save(os.path.join('experiments', self.run_id, 'generated_logits-{}.npy'.format(self.epochs)), self.generated_logits[-1])\n",
    "        np.save(os.path.join('experiments', self.run_id, 'generated_logits-test-{}.npy'.format(self.epochs)), self.generated_logits_test[-1])\n",
    "        with open(os.path.join('experiments', self.run_id, 'generated-{}.txt'.format(self.epochs)), 'w') as fw:\n",
    "            fw.write(self.generated[-1])\n",
    "        with open(os.path.join('experiments', self.run_id, 'generated-{}-test.txt'.format(self.epochs)), 'w') as fw:\n",
    "            fw.write(self.generated_test[-1])\n"
   ]
  },
  {
   "cell_type": "code",
   "execution_count": 20,
   "metadata": {},
   "outputs": [],
   "source": [
    "class TestLanguageModel:\n",
    "    def prediction(inp, model):\n",
    "        \"\"\"\n",
    "            TODO: write prediction code here\n",
    "            \n",
    "            :param inp:\n",
    "            :return: a np.ndarray of logits\n",
    "        \"\"\"\n",
    "        num_seq = inp.shape[0]\n",
    "        \n",
    "        sequence = [torch.LongTensor(inp[i]).cuda() for i in range(num_seq)]\n",
    "        out_flatten, out, _ = model.forward(sequence)\n",
    "        pred = [out[i][-1].detach().cpu() for i in range(len(out))]\n",
    "        pred = np.array(torch.stack(pred))\n",
    "        return pred\n",
    "\n",
    "        \n",
    "    def generation(inp, forward, model):\n",
    "        \"\"\"\n",
    "            TODO: write generation code here\n",
    "\n",
    "            Generate a sequence of words given a starting sequence.\n",
    "            :param inp: Initial sequence of words (batch size, length)\n",
    "            :param forward: number of additional words to generate\n",
    "            :return: generated words (batch size, forward)\n",
    "        \"\"\"        \n",
    "        num_seq = inp.shape[0]\n",
    "        \n",
    "        sequence = [torch.LongTensor(inp[i]).cuda() for i in range(num_seq)]\n",
    "        out_flatten, _, out = model.forward(sequence)\n",
    "        \n",
    "        next_word = [out[i][-1].view(1) for i in range(len(out))]\n",
    "        generation = next_word\n",
    "        new_sequence = [torch.cat([sequence[i], next_word[i]]) for i in range(len(sequence))]\n",
    "\n",
    "        for n_word in range(forward-1):\n",
    "            out_flatten, _, out = model.forward(new_sequence)\n",
    "            next_word = [out[i][-1].view(1) for i in range(len(out))]\n",
    "            new_sequence = [torch.cat([new_sequence[i], next_word[i]]) for i in range(len(sequence))]\n",
    "            generation = [torch.cat([generation[i].cpu(), next_word[i].cpu()]) for i in range(len(generation))]\n",
    "        generation = torch.stack(generation).numpy()\n",
    "        return generation"
   ]
  },
  {
   "cell_type": "code",
   "execution_count": 24,
   "metadata": {},
   "outputs": [],
   "source": [
    "# TODO: define other hyperparameters here\n",
    "\n",
    "NUM_EPOCHS = 8\n",
    "BATCH_SIZE = 8\n"
   ]
  },
  {
   "cell_type": "code",
   "execution_count": 25,
   "metadata": {},
   "outputs": [
    {
     "name": "stdout",
     "output_type": "stream",
     "text": [
      "Saving models, predictions, and generated words to ./experiments/1574409843\n"
     ]
    }
   ],
   "source": [
    "run_id = str(int(time.time()))\n",
    "if not os.path.exists('./experiments'):\n",
    "    os.mkdir('./experiments')\n",
    "os.mkdir('./experiments/%s' % run_id)\n",
    "print(\"Saving models, predictions, and generated words to ./experiments/%s\" % run_id)"
   ]
  },
  {
   "cell_type": "code",
   "execution_count": 26,
   "metadata": {},
   "outputs": [],
   "source": [
    "model = LanguageModel(len(vocab),512,512,4)\n",
    "model = model.cuda()\n",
    "loader = LanguageModelDataLoader(dataset=dataset, batch_size=BATCH_SIZE, shuffle=True)"
   ]
  },
  {
   "cell_type": "code",
   "execution_count": 27,
   "metadata": {},
   "outputs": [],
   "source": [
    "trainer = LanguageModelTrainer(model=model, loader=loader, max_epochs=NUM_EPOCHS, run_id=run_id)"
   ]
  },
  {
   "cell_type": "code",
   "execution_count": 28,
   "metadata": {
    "scrolled": true
   },
   "outputs": [
    {
     "name": "stdout",
     "output_type": "stream",
     "text": [
      "Time: 0.08829855918884277 Loss: 6.2655134201049805\n",
      "[TRAIN]  Epoch [2/8]   Loss: 6.5995\n",
      "[VAL]  Epoch [2/8]   Loss: 5.7240\n",
      "Saving model, predictions and generated output for epoch 0 with NLL: 5.7240357\n",
      "Time: 0.08940696716308594 Loss: 6.0140638351440435\n",
      "[TRAIN]  Epoch [3/8]   Loss: 5.9849\n",
      "[VAL]  Epoch [3/8]   Loss: 5.3289\n",
      "Saving model, predictions and generated output for epoch 1 with NLL: 5.3289375\n",
      "Time: 0.0844113826751709 Loss: 5.662783145904541455.7058186531066895\n",
      "[TRAIN]  Epoch [4/8]   Loss: 5.7065\n",
      "[VAL]  Epoch [4/8]   Loss: 5.1974\n",
      "Saving model, predictions and generated output for epoch 2 with NLL: 5.197402\n",
      "Time: 0.08645439147949219 Loss: 5.5339198112487795\n",
      "[TRAIN]  Epoch [5/8]   Loss: 5.5238\n",
      "[VAL]  Epoch [5/8]   Loss: 4.8722\n",
      "Saving model, predictions and generated output for epoch 3 with NLL: 4.872234\n",
      "Time: 0.08043622970581055 Loss: 5.35037994384765655.412330627441406\n",
      "[TRAIN]  Epoch [6/8]   Loss: 5.3770\n",
      "[VAL]  Epoch [6/8]   Loss: 4.7845\n",
      "Saving model, predictions and generated output for epoch 4 with NLL: 4.78446\n",
      "Time: 0.0804600715637207 Loss: 5.24590587615966875\n",
      "[TRAIN]  Epoch [7/8]   Loss: 5.2706\n",
      "[VAL]  Epoch [7/8]   Loss: 4.7965\n",
      "Time: 0.0891566276550293 Loss: 5.28431129455566495Loss: 5.069775104522705\n",
      "[TRAIN]  Epoch [8/8]   Loss: 5.1483\n",
      "[VAL]  Epoch [8/8]   Loss: 4.7584\n",
      "Saving model, predictions and generated output for epoch 6 with NLL: 4.7583942\n",
      "Time: 0.0895543098449707 Loss: 4.97879409790039195\n",
      "[TRAIN]  Epoch [9/8]   Loss: 5.1239\n",
      "[VAL]  Epoch [9/8]   Loss: 4.6037\n",
      "Saving model, predictions and generated output for epoch 7 with NLL: 4.603655\n"
     ]
    }
   ],
   "source": [
    "best_nll = 1e30 \n",
    "for epoch in range(NUM_EPOCHS):\n",
    "    trainer.train()\n",
    "    nll = trainer.test()\n",
    "    if nll < best_nll:\n",
    "        best_nll = nll\n",
    "        print(\"Saving model, predictions and generated output for epoch \"+str(epoch)+\" with NLL: \"+ str(best_nll))\n",
    "        trainer.save()"
   ]
  },
  {
   "cell_type": "code",
   "execution_count": 29,
   "metadata": {
    "scrolled": true
   },
   "outputs": [
    {
     "name": "stdout",
     "output_type": "stream",
     "text": [
      "Time: 0.08361434936523438 Loss: 5.3015861511230475\n",
      "[TRAIN]  Epoch [10/8]   Loss: 5.0323\n",
      "[VAL]  Epoch [10/8]   Loss: 4.6337\n",
      "Time: 0.08559441566467285 Loss: 4.9341535568237305\n",
      "[TRAIN]  Epoch [11/8]   Loss: 4.9404\n",
      "[VAL]  Epoch [11/8]   Loss: 4.6186\n",
      "Time: 0.07928133010864258 Loss: 4.8148989677429215\n",
      "[TRAIN]  Epoch [12/8]   Loss: 4.9122\n",
      "[VAL]  Epoch [12/8]   Loss: 4.6415\n",
      "Time: 0.08373284339904785 Loss: 4.8244585990905765\n",
      "[TRAIN]  Epoch [13/8]   Loss: 4.8611\n",
      "[VAL]  Epoch [13/8]   Loss: 4.5575\n",
      "Saving model, predictions and generated output for epoch 3 with NLL: 4.5575223\n",
      "Time: 0.08637189865112305 Loss: 4.6906929016113285\n",
      "[TRAIN]  Epoch [14/8]   Loss: 4.7729\n",
      "[VAL]  Epoch [14/8]   Loss: 4.4475\n",
      "Saving model, predictions and generated output for epoch 4 with NLL: 4.4474525\n",
      "Time: 0.08555173873901367 Loss: 4.9631700515747075\n",
      "[TRAIN]  Epoch [15/8]   Loss: 4.7787\n",
      "[VAL]  Epoch [15/8]   Loss: 4.4532\n",
      "Time: 0.0842139720916748 Loss: 4.69238233566284265\n",
      "[TRAIN]  Epoch [16/8]   Loss: 4.7423\n",
      "[VAL]  Epoch [16/8]   Loss: 4.5161\n",
      "Time: 0.0869443416595459 Loss: 4.72446870803833175\n",
      "[TRAIN]  Epoch [17/8]   Loss: 4.6571\n",
      "[VAL]  Epoch [17/8]   Loss: 4.3947\n",
      "Saving model, predictions and generated output for epoch 7 with NLL: 4.3947377\n"
     ]
    }
   ],
   "source": [
    "for epoch in range(NUM_EPOCHS):\n",
    "    trainer.train()\n",
    "    nll = trainer.test()\n",
    "    if nll < best_nll:\n",
    "        best_nll = nll\n",
    "        print(\"Saving model, predictions and generated output for epoch \"+str(epoch)+\" with NLL: \"+ str(best_nll))\n",
    "        trainer.save()"
   ]
  },
  {
   "cell_type": "code",
   "execution_count": null,
   "metadata": {},
   "outputs": [],
   "source": [
    "# optimizer = torch.optim.Adam(model.parameters(),lr=0.001, weight_decay=1e-6)\n",
    "# criterion = nn.CrossEntropyLoss().cuda()"
   ]
  },
  {
   "cell_type": "code",
   "execution_count": null,
   "metadata": {
    "scrolled": true
   },
   "outputs": [],
   "source": [
    "# for batch_num, (inputs, targets) in enumerate(loader):\n",
    "#     inputs = [i.cuda() for i in inputs]\n",
    "# #     targets = torch.cat(targets).cuda()\n",
    "#     outputs, out = model.forward(inputs)\n",
    "#     break\n",
    "# #     loss = criterion(outputs, targets)\n",
    "# #     optimizer.zero_grad()\n",
    "# #     loss.backward()\n",
    "# #     optimizer.step()"
   ]
  },
  {
   "cell_type": "code",
   "execution_count": 30,
   "metadata": {},
   "outputs": [
    {
     "data": {
      "image/png": "[encoded data removed]",
      "text/plain": [
       "<Figure size 432x288 with 1 Axes>"
      ]
     },
     "metadata": {
      "needs_background": "light"
     },
     "output_type": "display_data"
    }
   ],
   "source": [
    "# Don't change these\n",
    "# plot training curves\n",
    "plt.figure()\n",
    "plt.plot(range(1, trainer.epochs + 1), trainer.train_losses, label='Training losses')\n",
    "plt.plot(range(1, trainer.epochs + 1), trainer.val_losses, label='Validation losses')\n",
    "plt.xlabel('Epochs')\n",
    "plt.ylabel('NLL')\n",
    "plt.legend()\n",
    "plt.show()"
   ]
  },
  {
   "cell_type": "code",
   "execution_count": 31,
   "metadata": {
    "scrolled": true
   },
   "outputs": [
    {
     "name": "stdout",
     "output_type": "stream",
     "text": [
      "Input | Output #0: while the group was en route , but only three were ultimately able to attack . None of them were | the most common and most common of the United States\n",
      "Input | Output #1: <unk> , where he remained on loan until 30 June 2010 . <eol> = = = Return to Manchester United | = = = <eol> In the United States , the\n",
      "Input | Output #2: 25 April 2013 , denoting shipments of 500 @,@ 000 copies . <eol> The song became One Direction 's fourth | single , and the second single from the album was\n",
      "Input | Output #3: , and Bruce R. ) one daughter ( Wendy J. <unk> ) and two grandchildren , died in <unk> , | <unk> , <unk> , <unk> , <unk> , <unk> ,\n",
      "Input | Output #4: Warrior were examples of this type . Because their armor was so heavy , they could only carry a single | position in the United States . The <unk> was also\n",
      "Input | Output #5: the embassy at 1 : 49 and landed on Guam at 2 : 23 ; twenty minutes later , Ambassador | was awarded the <unk> Prize of the Year . The\n",
      "Input | Output #6: <unk> , $ 96 million USD ) . Damage was heaviest in South Korea , notably where it moved ashore | to the west . The <unk> was the first to\n",
      "Input | Output #7: The <unk> were condemned as <unk> by <unk> , who saw the riots as hampering attempts to resolve the situation | . <eol> = = = = <unk> = = =\n",
      "Input | Output #8: by a decision made by the War Office in mid @-@ 1941 , as it was considering the equipment to | the public . The following day , the company was\n",
      "Input | Output #9: Division crossed the <unk> at a number of places and climbed the hills quietly toward the 9th Infantry river line | . The French and Ottoman brigades were sent to the\n",
      "Input | Output #10: = <eol> = = = French VIII . Corps ( Corps <unk> ) = = = <eol> On 6 November | 1944 , the battalion was ordered to withdraw and the\n",
      "Input | Output #11: of the World from 9th Avenue \" . This is regarded as his most famous work . It is considered | a great part of the world 's most iconic ,\n",
      "Input | Output #12: — <unk> @-@ 10 , <unk> @-@ 12 , <unk> @-@ 16 , <unk> @-@ 17 — were all converted | to the <unk> <unk> <unk> <unk> <unk> <unk> <unk> <unk>\n",
      "Input | Output #13: And now he has . \" <eol> = = Family = = <eol> <unk> lived 37 of his years in | the United States . The film was a commercial success\n",
      "Input | Output #14: Hell to which he has been condemned for <unk> . Eliot , in a letter to John <unk> dated 27 | February 2009 , was a member of the National Academy\n",
      "Input | Output #15: Luoyang area , fulfilling his duties in domestic affairs . <eol> In the autumn of <unk> , he met Li | <unk> , a <unk> <unk> , and a <unk> <unk>\n",
      "Input | Output #16: Power said they enjoyed Block Ball and its number of stages , but wondered how its eight <unk> of memory | was a <unk> . <eol> = = = = <unk>\n",
      "Input | Output #17: by Lloyd F. Lonergan . The cameraman was Jacques <unk> . <eol> = = Release and reception = = <eol> | = = = Certifications = = = <eol> = =\n",
      "Input | Output #18: alone , the Austrians lost more than half their reserve artillery park , 6 @,@ 000 ( out of 8 | @,@ 000 tonnes ) , and the <unk> ( <unk>\n",
      "Input | Output #19: while attacking a ship at <unk> in the Dutch East Indies ; the loss was compounded by the fact that | the French fleet was the most active and most of\n",
      "Input | Output #20: first raised in 2007 by the member of parliament ( MP ) for <unk> . The gangsters may have run | from the <unk> <unk> , which is a <unk> ,\n",
      "Input | Output #21: Species are also non @-@ spiny <unk> and includes both large trees with stout stems up to 30 metres ( | 3 @.@ 1 ft ) wide . The oribi is\n",
      "Input | Output #22: \" : specific design issues with the building 's energy efficiency included the fact that the largest room in the | United States is a <unk> , and the <unk> of\n",
      "Input | Output #23: were reported to support over 300 @,@ 000 households in the Brazilian state of <unk> in 2005 , and in | the United States . The <unk> was a <unk> ,\n",
      "Input | Output #24: port . <unk> in Vietnam also warned for the potential of heavy rainfall due to the dissipating Tropical Depression <unk> | . <eol> = = Meteorological history = = <eol> The\n",
      "Input | Output #25: T @-@ numbers in their tropical cyclone products . The following example is from discussion number 3 of Tropical Depression | Simon , the highest of which was the strongest storm\n",
      "Input | Output #26: South Australia hosted the three @-@ game semi @-@ final series against the New South Wales <unk> . Both teams | were also named the most successful player to win the\n",
      "Input | Output #27: Perth from contention and secured the last finals spot for the <unk> . <eol> = = = Statistical leaders = | = = <eol> The Portuguese was the first to be\n",
      "Input | Output #28: deemed it an \" amazing pop song \" , lauding the group 's falsetto and its \" head @-@ <unk> | \" . <eol> = = = Reviews = = =\n",
      "Input | Output #29: , but began patrolling the English Channel after <unk> @-@ 6 pioneered a route past British <unk> nets and mines | . The first two @-@ lane , <unk> <unk> ,\n",
      "Input | Output #30: production executives to let him direct . He had already discussed the film with <unk> and Cohen , and felt | that the film was a \" <unk> \" . <eol>\n",
      "Input | Output #31: and Nick <unk> at Studio <unk> in Los Angeles , California , and was released on August 1 , 2006 | . The song was a commercial success , and was\n",
      "\n"
     ]
    }
   ],
   "source": [
    "# see generated output\n",
    "print (trainer.generated[-1]) # get last generated output"
   ]
  },
  {
   "cell_type": "code",
   "execution_count": 32,
   "metadata": {},
   "outputs": [
    {
     "data": {
      "text/plain": [
       "'1574409843'"
      ]
     },
     "execution_count": 32,
     "metadata": {},
     "output_type": "execute_result"
    }
   ],
   "source": [
    "run_id"
   ]
  },
  {
   "cell_type": "code",
   "execution_count": null,
   "metadata": {},
   "outputs": [],
   "source": [
    "!cp experiments/1574406970/predictions-test-10.npy predictions.npy\n",
    "!cp experiments/1574406970/generated-10.txt generated.txt\n",
    "!cp experiments/1574406970/generated_logits-test-10.npy generated_logits.npy\n",
    "!tar -cvf handin.tar training.ipynb predictions.npy generated.txt generated_logits.npy\n",
    "# !rm -f generated.txt predictions.npy training.ipynb generated_logits.npy"
   ]
  },
  {
   "cell_type": "code",
   "execution_count": null,
   "metadata": {},
   "outputs": [],
   "source": []
  },
  {
   "cell_type": "code",
   "execution_count": null,
   "metadata": {},
   "outputs": [],
   "source": []
  },
  {
   "cell_type": "code",
   "execution_count": null,
   "metadata": {},
   "outputs": [],
   "source": []
  },
  {
   "cell_type": "code",
   "execution_count": null,
   "metadata": {},
   "outputs": [],
   "source": []
  },
  {
   "cell_type": "code",
   "execution_count": null,
   "metadata": {},
   "outputs": [],
   "source": []
  },
  {
   "cell_type": "code",
   "execution_count": null,
   "metadata": {},
   "outputs": [],
   "source": []
  }
 ],
 "metadata": {
  "kernelspec": {
   "display_name": "Python 3",
   "language": "python",
   "name": "python3"
  },
  "language_info": {
   "codemirror_mode": {
    "name": "ipython",
    "version": 3
   },
   "file_extension": ".py",
   "mimetype": "text/x-python",
   "name": "python",
   "nbconvert_exporter": "python",
   "pygments_lexer": "ipython3",
   "version": "3.7.3"
  }
 },
 "nbformat": 4,
 "nbformat_minor": 2
}
